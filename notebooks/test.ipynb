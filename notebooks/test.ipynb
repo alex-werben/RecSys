{
 "cells": [
  {
   "cell_type": "code",
   "execution_count": 19,
   "metadata": {},
   "outputs": [],
   "source": [
    "import os\n",
    "import sys\n",
    "from pathlib import Path\n",
    "import pandas as pd\n",
    "from rectools.columns import Columns\n",
    "from hydra import compose, initialize"
   ]
  },
  {
   "cell_type": "code",
   "execution_count": 22,
   "metadata": {},
   "outputs": [
    {
     "data": {
      "text/plain": [
       "'/Users/alexander/Developer/RecSys'"
      ]
     },
     "execution_count": 22,
     "metadata": {},
     "output_type": "execute_result"
    }
   ],
   "source": [
    "str(Path(os.getcwd()).parent)"
   ]
  },
  {
   "cell_type": "code",
   "execution_count": 20,
   "metadata": {},
   "outputs": [],
   "source": [
    "sys.path.append(str(Path(os.getcwd()).parent))"
   ]
  },
  {
   "cell_type": "code",
   "execution_count": 13,
   "metadata": {},
   "outputs": [],
   "source": [
    "sys.path.append(\"../../\")"
   ]
  },
  {
   "cell_type": "code",
   "execution_count": 9,
   "metadata": {},
   "outputs": [],
   "source": [
    "from ml_project.data import (\n",
    "    InteractionsTransformer,\n",
    "    read_data\n",
    ")"
   ]
  },
  {
   "cell_type": "code",
   "execution_count": 44,
   "metadata": {},
   "outputs": [],
   "source": [
    "with initialize(config_path=\"../configs\", version_base=\"1.1\"):\n",
    "    conf = compose(config_name=\"train_config\", return_hydra_config=True)"
   ]
  },
  {
   "cell_type": "code",
   "execution_count": 11,
   "metadata": {},
   "outputs": [
    {
     "data": {
      "text/plain": [
       "'data/raw/BX-Book-Ratings.csv'"
      ]
     },
     "execution_count": 11,
     "metadata": {},
     "output_type": "execute_result"
    }
   ],
   "source": [
    "conf.data.input.interactions.path"
   ]
  },
  {
   "cell_type": "code",
   "execution_count": 27,
   "metadata": {},
   "outputs": [],
   "source": [
    "interactions_df = read_data(\n",
    "    path=\"/Users/alexander/Developer/RecSys/data/raw/BX-Book-Ratings.csv\",\n",
    "    read_params=conf.data.input.interactions.read_params\n",
    ")"
   ]
  },
  {
   "cell_type": "code",
   "execution_count": 29,
   "metadata": {},
   "outputs": [],
   "source": [
    "transformer = InteractionsTransformer(interactions_column_params=conf.data.input.interactions.column_params)"
   ]
  },
  {
   "cell_type": "code",
   "execution_count": 32,
   "metadata": {},
   "outputs": [
    {
     "name": "stdout",
     "output_type": "stream",
     "text": [
      "<class 'pandas.core.frame.DataFrame'>\n",
      "RangeIndex: 433671 entries, 0 to 433670\n",
      "Data columns (total 4 columns):\n",
      " #   Column    Non-Null Count   Dtype  \n",
      "---  ------    --------------   -----  \n",
      " 0   user_id   433671 non-null  int64  \n",
      " 1   item_id   433671 non-null  int64  \n",
      " 2   weight    433671 non-null  float64\n",
      " 3   datetime  433671 non-null  object \n",
      "dtypes: float64(1), int64(2), object(1)\n",
      "memory usage: 13.2+ MB\n"
     ]
    }
   ],
   "source": [
    "from ml_project.data.make_dataset import split_data_for_train_test\n",
    "from ml_project.models.model_fit_predict import evaluate_model\n",
    "\n",
    "\n",
    "interactions_df = transformer.fit_transform(interactions_df)\n",
    "\n",
    "interactions_df.info()\n",
    "\n",
    "train_df, test_df = split_data_for_train_test(\n",
    "    interactions_df=interactions_df,\n",
    "    splitter_params=conf.splitter_params\n",
    ")\n",
    "\n",
    "\n",
    "test_df = test_df[test_df[Columns.User].isin(train_df[Columns.User])]"
   ]
  },
  {
   "cell_type": "code",
   "execution_count": 33,
   "metadata": {},
   "outputs": [
    {
     "data": {
      "text/html": [
       "<div>\n",
       "<style scoped>\n",
       "    .dataframe tbody tr th:only-of-type {\n",
       "        vertical-align: middle;\n",
       "    }\n",
       "\n",
       "    .dataframe tbody tr th {\n",
       "        vertical-align: top;\n",
       "    }\n",
       "\n",
       "    .dataframe thead th {\n",
       "        text-align: right;\n",
       "    }\n",
       "</style>\n",
       "<table border=\"1\" class=\"dataframe\">\n",
       "  <thead>\n",
       "    <tr style=\"text-align: right;\">\n",
       "      <th></th>\n",
       "      <th>user_id</th>\n",
       "      <th>item_id</th>\n",
       "      <th>weight</th>\n",
       "      <th>datetime</th>\n",
       "    </tr>\n",
       "  </thead>\n",
       "  <tbody>\n",
       "    <tr>\n",
       "      <th>0</th>\n",
       "      <td>0</td>\n",
       "      <td>126</td>\n",
       "      <td>5.0</td>\n",
       "      <td>2024-10-09</td>\n",
       "    </tr>\n",
       "    <tr>\n",
       "      <th>1</th>\n",
       "      <td>0</td>\n",
       "      <td>97785</td>\n",
       "      <td>5.0</td>\n",
       "      <td>2024-10-09</td>\n",
       "    </tr>\n",
       "    <tr>\n",
       "      <th>2</th>\n",
       "      <td>0</td>\n",
       "      <td>124868</td>\n",
       "      <td>5.0</td>\n",
       "      <td>2024-10-09</td>\n",
       "    </tr>\n",
       "    <tr>\n",
       "      <th>3</th>\n",
       "      <td>0</td>\n",
       "      <td>134660</td>\n",
       "      <td>5.0</td>\n",
       "      <td>2024-10-09</td>\n",
       "    </tr>\n",
       "    <tr>\n",
       "      <th>4</th>\n",
       "      <td>0</td>\n",
       "      <td>139277</td>\n",
       "      <td>6.0</td>\n",
       "      <td>2024-10-09</td>\n",
       "    </tr>\n",
       "    <tr>\n",
       "      <th>...</th>\n",
       "      <td>...</td>\n",
       "      <td>...</td>\n",
       "      <td>...</td>\n",
       "      <td>...</td>\n",
       "    </tr>\n",
       "    <tr>\n",
       "      <th>433666</th>\n",
       "      <td>77804</td>\n",
       "      <td>39186</td>\n",
       "      <td>7.0</td>\n",
       "      <td>2024-10-09</td>\n",
       "    </tr>\n",
       "    <tr>\n",
       "      <th>433667</th>\n",
       "      <td>77804</td>\n",
       "      <td>51237</td>\n",
       "      <td>7.0</td>\n",
       "      <td>2024-10-09</td>\n",
       "    </tr>\n",
       "    <tr>\n",
       "      <th>433668</th>\n",
       "      <td>77804</td>\n",
       "      <td>51292</td>\n",
       "      <td>7.0</td>\n",
       "      <td>2024-10-09</td>\n",
       "    </tr>\n",
       "    <tr>\n",
       "      <th>433669</th>\n",
       "      <td>77804</td>\n",
       "      <td>73289</td>\n",
       "      <td>6.0</td>\n",
       "      <td>2024-10-09</td>\n",
       "    </tr>\n",
       "    <tr>\n",
       "      <th>433670</th>\n",
       "      <td>77804</td>\n",
       "      <td>75450</td>\n",
       "      <td>8.0</td>\n",
       "      <td>2024-10-09</td>\n",
       "    </tr>\n",
       "  </tbody>\n",
       "</table>\n",
       "<p>433671 rows × 4 columns</p>\n",
       "</div>"
      ],
      "text/plain": [
       "        user_id  item_id  weight   datetime\n",
       "0             0      126     5.0 2024-10-09\n",
       "1             0    97785     5.0 2024-10-09\n",
       "2             0   124868     5.0 2024-10-09\n",
       "3             0   134660     5.0 2024-10-09\n",
       "4             0   139277     6.0 2024-10-09\n",
       "...         ...      ...     ...        ...\n",
       "433666    77804    39186     7.0 2024-10-09\n",
       "433667    77804    51237     7.0 2024-10-09\n",
       "433668    77804    51292     7.0 2024-10-09\n",
       "433669    77804    73289     6.0 2024-10-09\n",
       "433670    77804    75450     8.0 2024-10-09\n",
       "\n",
       "[433671 rows x 4 columns]"
      ]
     },
     "execution_count": 33,
     "metadata": {},
     "output_type": "execute_result"
    }
   ],
   "source": [
    "interactions_df"
   ]
  },
  {
   "cell_type": "code",
   "execution_count": 37,
   "metadata": {},
   "outputs": [
    {
     "data": {
      "text/plain": [
       "{'model_type': 'SVD'}"
      ]
     },
     "execution_count": 37,
     "metadata": {},
     "output_type": "execute_result"
    }
   ],
   "source": [
    "conf.train_params"
   ]
  },
  {
   "cell_type": "code",
   "execution_count": 45,
   "metadata": {},
   "outputs": [],
   "source": [
    "from rectools.dataset import Dataset\n",
    "from rectools.metrics import calc_metrics\n",
    "from rectools.models import PureSVDModel\n",
    "import typing as tp\n",
    "\n",
    "\n",
    "from ml_project.data.make_dataset import prepare_metrics_dict\n",
    "dataset = Dataset.construct(interactions_df=train_df)\n",
    "\n",
    "if conf.train_params.model_type == \"SVD\":\n",
    "    model = PureSVDModel(factors=20)\n",
    "\n",
    "model.fit(dataset)\n",
    "\n",
    "users_to_predict = test_df[Columns.User].unique()\n",
    "\n",
    "recs_df = model.recommend(\n",
    "    users=users_to_predict,\n",
    "    dataset=dataset,\n",
    "    **conf.predict_params\n",
    ")\n",
    "\n",
    "metrics_dict = prepare_metrics_dict(conf.metric_params)\n",
    "\n",
    "metrics: tp.Dict[str, float] = calc_metrics(\n",
    "    metrics=metrics_dict,\n",
    "    reco=recs_df,\n",
    "    interactions=test_df,\n",
    "    prev_interactions=train_df,\n",
    ")"
   ]
  },
  {
   "cell_type": "code",
   "execution_count": 46,
   "metadata": {},
   "outputs": [
    {
     "data": {
      "text/plain": [
       "{'Recall': 0.012048323733016586, 'Precision': 0.000247161948555827}"
      ]
     },
     "execution_count": 46,
     "metadata": {},
     "output_type": "execute_result"
    }
   ],
   "source": [
    "metrics"
   ]
  }
 ],
 "metadata": {
  "kernelspec": {
   "display_name": "recsys-YI8z0kEL-py3.12",
   "language": "python",
   "name": "python3"
  },
  "language_info": {
   "codemirror_mode": {
    "name": "ipython",
    "version": 3
   },
   "file_extension": ".py",
   "mimetype": "text/x-python",
   "name": "python",
   "nbconvert_exporter": "python",
   "pygments_lexer": "ipython3",
   "version": "3.12.2"
  }
 },
 "nbformat": 4,
 "nbformat_minor": 2
}
